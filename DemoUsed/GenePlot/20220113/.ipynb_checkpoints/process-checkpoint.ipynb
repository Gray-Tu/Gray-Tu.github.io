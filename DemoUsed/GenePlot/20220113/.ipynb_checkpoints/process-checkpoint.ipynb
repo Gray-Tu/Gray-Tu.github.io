{
 "cells": [
  {
   "cell_type": "code",
   "execution_count": 1,
   "metadata": {},
   "outputs": [],
   "source": [
    "import glob"
   ]
  },
  {
   "cell_type": "code",
   "execution_count": 2,
   "metadata": {},
   "outputs": [],
   "source": [
    "png_list = glob.glob(\"png/*png\")"
   ]
  },
  {
   "cell_type": "code",
   "execution_count": null,
   "metadata": {},
   "outputs": [],
   "source": [
    "template = \"\"\"\n",
    "<link rel=\"stylesheet\" href=\"../Report.css\" type=\"text/css\">\n",
    "<div class=\"imgWrapper\">\n",
    "    <img src=\"{f}\" style=\"max-width: 100%\">\n",
    "</div>\n",
    "\"\"\""
   ]
  },
  {
   "cell_type": "code",
   "execution_count": 8,
   "metadata": {},
   "outputs": [
    {
     "data": {
      "text/plain": [
       "'YKT6'"
      ]
     },
     "execution_count": 8,
     "metadata": {},
     "output_type": "execute_result"
    }
   ],
   "source": [
    "png.split(\"_\")[-1].replace(\".png\", \"\")"
   ]
  },
  {
   "cell_type": "code",
   "execution_count": 10,
   "metadata": {},
   "outputs": [
    {
     "name": "stdout",
     "output_type": "stream",
     "text": [
      "HeatMap\n",
      "VlnPlot\n",
      "ACOT7\n",
      "ADM\n",
      "ALDOA\n",
      "ANKRD37\n",
      "ANLN\n",
      "BNIP3\n",
      "CDKN3\n",
      "CHCHD2\n",
      "CORO1C\n",
      "DDIT4\n",
      "ENO1\n",
      "GAPDH\n",
      "GPI\n",
      "HK2\n",
      "KIF20A\n",
      "KIF4A\n",
      "LDHA\n",
      "LRRC42\n",
      "MAD2L2\n",
      "MAP7D1\n",
      "MCTS1\n",
      "MIF\n",
      "MRPL13\n",
      "MRPL15\n",
      "MRPS17\n",
      "NDRG1\n",
      "P4HA1\n",
      "PFKP\n",
      "PGAM1\n",
      "PGK1\n",
      "PSMA7\n",
      "PSRC1\n",
      "SEC61G\n",
      "SHCBP1\n",
      "SLC16A1\n",
      "SLC25A32\n",
      "SLC2A1\n",
      "TPI1\n",
      "TUBA1B\n",
      "TUBA1C\n",
      "TUBB6\n",
      "UTP11\n",
      "VEGFA\n",
      "YKT6\n"
     ]
    }
   ],
   "source": [
    "\n",
    "for p in png_list:\n",
    "    png = p.split(\"\\\\\")[-1]\n",
    "    gene = png.split(\"_\")[-1].replace(\".png\", \"\")\n",
    "    print(gene)\n",
    "    gene_html = f\"\"\"\n",
    "<link rel=\"stylesheet\" href=\"../Report.css\" type=\"text/css\">\n",
    "<div class=\"imgWrapper\">\n",
    "    <img src=\"{png}\" style=\"max-width: 100%\">\n",
    "</div>\n",
    "\"\"\"\n",
    "    with open(f\"png/{gene}.html\", \"w\") as Fw:\n",
    "        Fw.write(gene_html)"
   ]
  },
  {
   "cell_type": "code",
   "execution_count": 20,
   "metadata": {},
   "outputs": [
    {
     "name": "stdout",
     "output_type": "stream",
     "text": [
      "HeatMap\n",
      "VlnPlot\n",
      "ACOT7\n",
      "ADM\n",
      "ALDOA\n",
      "ANKRD37\n",
      "ANLN\n",
      "BNIP3\n",
      "CDKN3\n",
      "CHCHD2\n",
      "CORO1C\n",
      "DDIT4\n",
      "ENO1\n",
      "GAPDH\n",
      "GPI\n",
      "HK2\n",
      "KIF20A\n",
      "KIF4A\n",
      "LDHA\n",
      "LRRC42\n",
      "MAD2L2\n",
      "MAP7D1\n",
      "MCTS1\n",
      "MIF\n",
      "MRPL13\n",
      "MRPL15\n",
      "MRPS17\n",
      "NDRG1\n",
      "P4HA1\n",
      "PFKP\n",
      "PGAM1\n",
      "PGK1\n",
      "PSMA7\n",
      "PSRC1\n",
      "SEC61G\n",
      "SHCBP1\n",
      "SLC16A1\n",
      "SLC25A32\n",
      "SLC2A1\n",
      "TPI1\n",
      "TUBA1B\n",
      "TUBA1C\n",
      "TUBB6\n",
      "UTP11\n",
      "VEGFA\n",
      "YKT6\n"
     ]
    }
   ],
   "source": [
    "# make tree\n",
    "tree_html = \"\"\"\n",
    "<link rel=\"stylesheet\" href=\"Report.css\" type=\"text/css\"><table></table>\n",
    "\"\"\"\n",
    "for p in png_list:\n",
    "    png = p.split(\"\\\\\")[-1]\n",
    "    gene = png.split(\"_\")[-1].replace(\".png\", \"\")\n",
    "    print(gene)\n",
    "    gene_html = f\"\"\"\n",
    "\n",
    "    <li><a href=\"png/{gene}.html\" target=\"flowcellsummaryframe\">{gene}</li>\n",
    "\n",
    "\"\"\"\n",
    "    tree_html = tree_html + gene_html\n",
    "    "
   ]
  },
  {
   "cell_type": "code",
   "execution_count": 22,
   "metadata": {},
   "outputs": [],
   "source": [
    "with open(\"tree.html\", \"w\") as Fw:\n",
    "    Fw.write(tree_html)"
   ]
  }
 ],
 "metadata": {
  "kernelspec": {
   "display_name": "Python 3",
   "language": "python",
   "name": "python3"
  },
  "language_info": {
   "codemirror_mode": {
    "name": "ipython",
    "version": 3
   },
   "file_extension": ".py",
   "mimetype": "text/x-python",
   "name": "python",
   "nbconvert_exporter": "python",
   "pygments_lexer": "ipython3",
   "version": "3.7.3"
  }
 },
 "nbformat": 4,
 "nbformat_minor": 2
}
